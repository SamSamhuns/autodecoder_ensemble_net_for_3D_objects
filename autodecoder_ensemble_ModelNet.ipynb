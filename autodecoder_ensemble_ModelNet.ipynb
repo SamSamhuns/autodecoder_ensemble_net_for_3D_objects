{
 "cells": [
  {
   "cell_type": "markdown",
   "metadata": {},
   "source": [
    "# AutoDecoders on the ModelNet 10 data"
   ]
  },
  {
   "cell_type": "markdown",
   "metadata": {},
   "source": [
    "### Change directory to kaolin\n",
    "\n",
    "The kaolin library must be downloaded from <https://github.com/NVIDIAGameWorks/kaolin> and installed with instructions from their README\n",
    "\n",
    "### Note: The setenv.sh script must be run to set up proper kaolin paths"
   ]
  },
  {
   "cell_type": "code",
   "execution_count": 126,
   "metadata": {},
   "outputs": [],
   "source": [
    "# import necessary libraries\n",
    "import kaolin as kal\n",
    "from kaolin.datasets import modelnet\n",
    "from torch.utils.data import DataLoader\n",
    "from torchvision import transforms\n",
    "\n",
    "import torch\n",
    "import numpy as np\n",
    "import matplotlib.pyplot as plt\n",
    "\n",
    "from utils import visualize_npy\n",
    "from functools import partial\n",
    "\n",
    "%matplotlib inline"
   ]
  },
  {
   "cell_type": "markdown",
   "metadata": {},
   "source": [
    "## Kaolin mesh to point cloud conversion functions"
   ]
  },
  {
   "cell_type": "code",
   "execution_count": 129,
   "metadata": {
    "code_folding": [
     0
    ]
   },
   "outputs": [],
   "source": [
    "def convert_mesh_to_pt_cloud(mesh, num_points=5000):\n",
    "    return kal.conversions.trianglemesh_to_pointcloud(mesh, num_points)[0]"
   ]
  },
  {
   "cell_type": "code",
   "execution_count": 186,
   "metadata": {},
   "outputs": [],
   "source": [
    "category_list = ['bathtub', 'bed',        'chair',  'desk',  'dresser', \n",
    "                 'monitor', 'night_stand', 'sofa',  'table',  'toilet']"
   ]
  },
  {
   "cell_type": "code",
   "execution_count": 193,
   "metadata": {
    "code_folding": [
     0
    ]
   },
   "outputs": [],
   "source": [
    "def unload_off_to_npy(category_list, dump_npy_dir='./data/ModelNet10_npy/'):\n",
    "    for category in category_list:\n",
    "        print(f\"Unloading {category} to npy\")\n",
    "        mdnet = modelnet.ModelNet(root='./data/ModelNet10/', categories=[category],\n",
    "                                  transform=transforms.Compose([custom_mesh_to_pount_cloud]))\n",
    "\n",
    "        data_loader = DataLoader(mdnet, batch_size=32,\n",
    "                                 shuffle=True, num_workers=0)\n",
    "        X = None\n",
    "        # Load the entire .off files into one Tensor object X one at a time\n",
    "        for data_batch in data_loader:\n",
    "            if X is None:\n",
    "                X = data_batch[0]\n",
    "            else:\n",
    "                X = torch.cat([X, data_batch[0]], dim=0)\n",
    "        dump_npy_file = 'modelnet_'+category+'.npy'\n",
    "        print(\n",
    "            f\"Dumped category {category} with shape {X.shape} under {dump_npy_dir} as {dump_npy_file}\")\n",
    "        np.save(dump_npy_dir+dump_npy_file, X.numpy())"
   ]
  },
  {
   "cell_type": "markdown",
   "metadata": {},
   "source": [
    "## Unload all .off files into a .npy pickle format"
   ]
  },
  {
   "cell_type": "code",
   "execution_count": 194,
   "metadata": {
    "scrolled": true
   },
   "outputs": [
    {
     "name": "stdout",
     "output_type": "stream",
     "text": [
      "Unloading bathtub to npy\n",
      "Dumped category bathtub with shape torch.Size([106, 5000, 3]) under ./data/ModelNet10_npy/ as modelnet_bathtub.npy\n",
      "Unloading bed to npy\n",
      "Dumped category bed with shape torch.Size([515, 5000, 3]) under ./data/ModelNet10_npy/ as modelnet_bed.npy\n",
      "Unloading chair to npy\n",
      "Dumped category chair with shape torch.Size([889, 5000, 3]) under ./data/ModelNet10_npy/ as modelnet_chair.npy\n",
      "Unloading desk to npy\n",
      "Dumped category desk with shape torch.Size([200, 5000, 3]) under ./data/ModelNet10_npy/ as modelnet_desk.npy\n",
      "Unloading dresser to npy\n",
      "Dumped category dresser with shape torch.Size([200, 5000, 3]) under ./data/ModelNet10_npy/ as modelnet_dresser.npy\n",
      "Unloading monitor to npy\n",
      "Dumped category monitor with shape torch.Size([465, 5000, 3]) under ./data/ModelNet10_npy/ as modelnet_monitor.npy\n",
      "Unloading night_stand to npy\n",
      "Dumped category night_stand with shape torch.Size([200, 5000, 3]) under ./data/ModelNet10_npy/ as modelnet_night_stand.npy\n",
      "Unloading sofa to npy\n",
      "Dumped category sofa with shape torch.Size([680, 5000, 3]) under ./data/ModelNet10_npy/ as modelnet_sofa.npy\n",
      "Unloading table to npy\n",
      "Dumped category table with shape torch.Size([392, 5000, 3]) under ./data/ModelNet10_npy/ as modelnet_table.npy\n",
      "Unloading toilet to npy\n",
      "Dumped category toilet with shape torch.Size([344, 5000, 3]) under ./data/ModelNet10_npy/ as modelnet_toilet.npy\n"
     ]
    }
   ],
   "source": [
    "unload_off_to_npy(category_list)"
   ]
  },
  {
   "cell_type": "code",
   "execution_count": null,
   "metadata": {},
   "outputs": [],
   "source": []
  }
 ],
 "metadata": {
  "kernelspec": {
   "display_name": "decoderless",
   "language": "python",
   "name": "dencoder_less_env"
  },
  "language_info": {
   "codemirror_mode": {
    "name": "ipython",
    "version": 3
   },
   "file_extension": ".py",
   "mimetype": "text/x-python",
   "name": "python",
   "nbconvert_exporter": "python",
   "pygments_lexer": "ipython3",
   "version": "3.7.3"
  }
 },
 "nbformat": 4,
 "nbformat_minor": 2
}
